{
 "cells": [
  {
   "cell_type": "code",
   "execution_count": 1,
   "metadata": {},
   "outputs": [],
   "source": [
    "import pandas as pd"
   ]
  },
  {
   "cell_type": "markdown",
   "metadata": {},
   "source": [
    "# Analysis of product reviews"
   ]
  },
  {
   "cell_type": "markdown",
   "metadata": {},
   "source": [
    "I wanted to learn about langchain and came up with this little project to actually use the library for a somewhat realistic usecase.\n",
    "\n",
    "The goal is to automatically extract useful insights from customer reviews on a single product"
   ]
  },
  {
   "cell_type": "markdown",
   "metadata": {},
   "source": [
    "# Dataset after LLM prepratation"
   ]
  },
  {
   "cell_type": "code",
   "execution_count": 7,
   "metadata": {},
   "outputs": [
    {
     "data": {
      "text/html": [
       "<div>\n",
       "<style scoped>\n",
       "    .dataframe tbody tr th:only-of-type {\n",
       "        vertical-align: middle;\n",
       "    }\n",
       "\n",
       "    .dataframe tbody tr th {\n",
       "        vertical-align: top;\n",
       "    }\n",
       "\n",
       "    .dataframe thead th {\n",
       "        text-align: right;\n",
       "    }\n",
       "</style>\n",
       "<table border=\"1\" class=\"dataframe\">\n",
       "  <thead>\n",
       "    <tr style=\"text-align: right;\">\n",
       "      <th></th>\n",
       "      <th>Cluster Name</th>\n",
       "      <th>Review ID</th>\n",
       "      <th>Issue</th>\n",
       "      <th>date</th>\n",
       "      <th>hover_text</th>\n",
       "    </tr>\n",
       "  </thead>\n",
       "  <tbody>\n",
       "    <tr>\n",
       "      <th>0</th>\n",
       "      <td>Durability Issues</td>\n",
       "      <td>0</td>\n",
       "      <td>Die geklebte Folie löst sich ab</td>\n",
       "      <td>2024-05-25</td>\n",
       "      <td>Die geklebte Folie löst sich ab (25.05.24)</td>\n",
       "    </tr>\n",
       "    <tr>\n",
       "      <th>1</th>\n",
       "      <td>Durability Issues</td>\n",
       "      <td>2</td>\n",
       "      <td>Es war nach wenigen Minuten kaputt</td>\n",
       "      <td>2024-05-05</td>\n",
       "      <td>Es war nach wenigen Minuten kaputt (05.05.24)</td>\n",
       "    </tr>\n",
       "    <tr>\n",
       "      <th>2</th>\n",
       "      <td>Durability Issues</td>\n",
       "      <td>4</td>\n",
       "      <td>am nächsten Tag schon gerissen</td>\n",
       "      <td>2024-04-10</td>\n",
       "      <td>am nächsten Tag schon gerissen (10.04.24)</td>\n",
       "    </tr>\n",
       "    <tr>\n",
       "      <th>3</th>\n",
       "      <td>Durability Issues</td>\n",
       "      <td>8</td>\n",
       "      <td>nicht stabil</td>\n",
       "      <td>2024-03-21</td>\n",
       "      <td>nicht stabil (21.03.24)</td>\n",
       "    </tr>\n",
       "    <tr>\n",
       "      <th>4</th>\n",
       "      <td>Durability Issues</td>\n",
       "      <td>8</td>\n",
       "      <td>ziemlich schnell hinüber</td>\n",
       "      <td>2024-03-21</td>\n",
       "      <td>ziemlich schnell hinüber (21.03.24)</td>\n",
       "    </tr>\n",
       "  </tbody>\n",
       "</table>\n",
       "</div>"
      ],
      "text/plain": [
       "        Cluster Name  Review ID                               Issue  \\\n",
       "0  Durability Issues          0     Die geklebte Folie löst sich ab   \n",
       "1  Durability Issues          2  Es war nach wenigen Minuten kaputt   \n",
       "2  Durability Issues          4      am nächsten Tag schon gerissen   \n",
       "3  Durability Issues          8                        nicht stabil   \n",
       "4  Durability Issues          8            ziemlich schnell hinüber   \n",
       "\n",
       "         date                                     hover_text  \n",
       "0  2024-05-25     Die geklebte Folie löst sich ab (25.05.24)  \n",
       "1  2024-05-05  Es war nach wenigen Minuten kaputt (05.05.24)  \n",
       "2  2024-04-10      am nächsten Tag schon gerissen (10.04.24)  \n",
       "3  2024-03-21                        nicht stabil (21.03.24)  \n",
       "4  2024-03-21            ziemlich schnell hinüber (21.03.24)  "
      ]
     },
     "execution_count": 7,
     "metadata": {},
     "output_type": "execute_result"
    }
   ],
   "source": [
    "clusters_with_dates = pd.read_csv('clusters_with_dates.csv')\n",
    "clusters_with_dates.head()"
   ]
  },
  {
   "cell_type": "markdown",
   "metadata": {},
   "source": [
    "# Visualization"
   ]
  },
  {
   "cell_type": "markdown",
   "metadata": {},
   "source": [
    "<div style=\"width: 100%; overflow: hidden;\">\n",
    "    <iframe src=\"plot.html\" style=\"width: 100%; height: 600px; border: none;\"></iframe>\n",
    "</div>\n"
   ]
  },
  {
   "cell_type": "code",
   "execution_count": null,
   "metadata": {},
   "outputs": [],
   "source": []
  }
 ],
 "metadata": {
  "kernelspec": {
   "display_name": "langchain",
   "language": "python",
   "name": "python3"
  },
  "language_info": {
   "codemirror_mode": {
    "name": "ipython",
    "version": 3
   },
   "file_extension": ".py",
   "mimetype": "text/x-python",
   "name": "python",
   "nbconvert_exporter": "python",
   "pygments_lexer": "ipython3",
   "version": "3.11.9"
  }
 },
 "nbformat": 4,
 "nbformat_minor": 2
}
