{
 "cells": [
  {
   "cell_type": "code",
   "execution_count": 1,
   "metadata": {},
   "outputs": [],
   "source": [
    "import pandas as pd"
   ]
  },
  {
   "cell_type": "code",
   "execution_count": 2,
   "metadata": {},
   "outputs": [
    {
     "data": {
      "text/html": [
       "<div>\n",
       "<style scoped>\n",
       "    .dataframe tbody tr th:only-of-type {\n",
       "        vertical-align: middle;\n",
       "    }\n",
       "\n",
       "    .dataframe tbody tr th {\n",
       "        vertical-align: top;\n",
       "    }\n",
       "\n",
       "    .dataframe thead th {\n",
       "        text-align: right;\n",
       "    }\n",
       "</style>\n",
       "<table border=\"1\" class=\"dataframe\">\n",
       "  <thead>\n",
       "    <tr style=\"text-align: right;\">\n",
       "      <th></th>\n",
       "      <th>Cluster Name</th>\n",
       "      <th>Review ID</th>\n",
       "      <th>Issue</th>\n",
       "    </tr>\n",
       "  </thead>\n",
       "  <tbody>\n",
       "    <tr>\n",
       "      <th>0</th>\n",
       "      <td>Durability Issues</td>\n",
       "      <td>0</td>\n",
       "      <td>Die geklebte Folie löst sich ab</td>\n",
       "    </tr>\n",
       "    <tr>\n",
       "      <th>1</th>\n",
       "      <td>Durability Issues</td>\n",
       "      <td>2</td>\n",
       "      <td>Es war nach wenigen Minuten kaputt</td>\n",
       "    </tr>\n",
       "    <tr>\n",
       "      <th>2</th>\n",
       "      <td>Durability Issues</td>\n",
       "      <td>4</td>\n",
       "      <td>am nächsten Tag schon gerissen</td>\n",
       "    </tr>\n",
       "    <tr>\n",
       "      <th>3</th>\n",
       "      <td>Durability Issues</td>\n",
       "      <td>8</td>\n",
       "      <td>nicht stabil</td>\n",
       "    </tr>\n",
       "    <tr>\n",
       "      <th>4</th>\n",
       "      <td>Durability Issues</td>\n",
       "      <td>8</td>\n",
       "      <td>ziemlich schnell hinüber</td>\n",
       "    </tr>\n",
       "  </tbody>\n",
       "</table>\n",
       "</div>"
      ],
      "text/plain": [
       "        Cluster Name  Review ID                               Issue\n",
       "0  Durability Issues          0     Die geklebte Folie löst sich ab\n",
       "1  Durability Issues          2  Es war nach wenigen Minuten kaputt\n",
       "2  Durability Issues          4      am nächsten Tag schon gerissen\n",
       "3  Durability Issues          8                        nicht stabil\n",
       "4  Durability Issues          8            ziemlich schnell hinüber"
      ]
     },
     "execution_count": 2,
     "metadata": {},
     "output_type": "execute_result"
    }
   ],
   "source": [
    "issues = pd.read_csv('clusters.csv')\n",
    "issues.head()"
   ]
  },
  {
   "cell_type": "code",
   "execution_count": 3,
   "metadata": {},
   "outputs": [],
   "source": [
    "from pathlib import Path\n",
    "\n",
    "\n",
    "review_paths = list(Path('ReviewFetcher/raw_reviews').glob('*.txt'))"
   ]
  },
  {
   "cell_type": "code",
   "execution_count": 4,
   "metadata": {},
   "outputs": [],
   "source": [
    "import json\n",
    "from utils import parse_to_date_object\n",
    "\n",
    "dates = []\n",
    "\n",
    "\n",
    "for review_path in review_paths:\n",
    "    review_id = int(review_path.stem[7:])\n",
    "    review = json.loads(review_path.read_text().replace('\"', '\\\\\"').replace(\"'\", '\"'))\n",
    "    date = parse_to_date_object(review['date'])\n",
    "\n",
    "    dates.append([review_id, date])\n",
    "\n",
    "dates_df = pd.DataFrame(dates, columns=['Review ID', 'date'])\n",
    "data = pd.merge(issues, dates_df, on='Review ID')"
   ]
  },
  {
   "cell_type": "code",
   "execution_count": 5,
   "metadata": {},
   "outputs": [
    {
     "data": {
      "text/html": [
       "<div>\n",
       "<style scoped>\n",
       "    .dataframe tbody tr th:only-of-type {\n",
       "        vertical-align: middle;\n",
       "    }\n",
       "\n",
       "    .dataframe tbody tr th {\n",
       "        vertical-align: top;\n",
       "    }\n",
       "\n",
       "    .dataframe thead th {\n",
       "        text-align: right;\n",
       "    }\n",
       "</style>\n",
       "<table border=\"1\" class=\"dataframe\">\n",
       "  <thead>\n",
       "    <tr style=\"text-align: right;\">\n",
       "      <th></th>\n",
       "      <th>Cluster Name</th>\n",
       "      <th>Review ID</th>\n",
       "      <th>Issue</th>\n",
       "      <th>date</th>\n",
       "    </tr>\n",
       "  </thead>\n",
       "  <tbody>\n",
       "    <tr>\n",
       "      <th>0</th>\n",
       "      <td>Durability Issues</td>\n",
       "      <td>0</td>\n",
       "      <td>Die geklebte Folie löst sich ab</td>\n",
       "      <td>2024-05-25</td>\n",
       "    </tr>\n",
       "    <tr>\n",
       "      <th>1</th>\n",
       "      <td>Durability Issues</td>\n",
       "      <td>2</td>\n",
       "      <td>Es war nach wenigen Minuten kaputt</td>\n",
       "      <td>2024-05-05</td>\n",
       "    </tr>\n",
       "    <tr>\n",
       "      <th>2</th>\n",
       "      <td>Durability Issues</td>\n",
       "      <td>4</td>\n",
       "      <td>am nächsten Tag schon gerissen</td>\n",
       "      <td>2024-04-10</td>\n",
       "    </tr>\n",
       "    <tr>\n",
       "      <th>3</th>\n",
       "      <td>Durability Issues</td>\n",
       "      <td>8</td>\n",
       "      <td>nicht stabil</td>\n",
       "      <td>2024-03-21</td>\n",
       "    </tr>\n",
       "    <tr>\n",
       "      <th>4</th>\n",
       "      <td>Durability Issues</td>\n",
       "      <td>8</td>\n",
       "      <td>ziemlich schnell hinüber</td>\n",
       "      <td>2024-03-21</td>\n",
       "    </tr>\n",
       "  </tbody>\n",
       "</table>\n",
       "</div>"
      ],
      "text/plain": [
       "        Cluster Name  Review ID                               Issue       date\n",
       "0  Durability Issues          0     Die geklebte Folie löst sich ab 2024-05-25\n",
       "1  Durability Issues          2  Es war nach wenigen Minuten kaputt 2024-05-05\n",
       "2  Durability Issues          4      am nächsten Tag schon gerissen 2024-04-10\n",
       "3  Durability Issues          8                        nicht stabil 2024-03-21\n",
       "4  Durability Issues          8            ziemlich schnell hinüber 2024-03-21"
      ]
     },
     "execution_count": 5,
     "metadata": {},
     "output_type": "execute_result"
    }
   ],
   "source": [
    "data.head()"
   ]
  },
  {
   "cell_type": "code",
   "execution_count": 9,
   "metadata": {},
   "outputs": [],
   "source": [
    "data.to_csv('clusters_with_dates.csv', index=False)"
   ]
  },
  {
   "cell_type": "code",
   "execution_count": 6,
   "metadata": {},
   "outputs": [
    {
     "data": {
      "image/png": "[encoded data removed]",
      "text/plain": [
       "<Figure size 1200x800 with 1 Axes>"
      ]
     },
     "metadata": {},
     "output_type": "display_data"
    }
   ],
   "source": [
    "import matplotlib.pyplot as plt\n",
    "import locale\n",
    "\n",
    "data = pd.merge(issues, dates_df, on='Review ID')\n",
    "\n",
    "# Set locale to English\n",
    "locale.setlocale(locale.LC_TIME, 'en_US.UTF-8')\n",
    "# Convert 'date' column to datetime\n",
    "data['date'] = pd.to_datetime(data['date'])\n",
    "\n",
    "# Set 'date' as the index\n",
    "data.set_index('date', inplace=True)\n",
    "\n",
    "# Resample to monthly frequency and count the number of issues\n",
    "monthly_issues = data.groupby('Cluster Name').resample('ME').size().unstack(fill_value=0)\n",
    "\n",
    "# Plot the monthly number of new issues for each cluster\n",
    "fig, ax = plt.subplots(figsize=(12, 8))\n",
    "monthly_issues.T.plot(kind='bar', ax=ax, edgecolor='black')\n",
    "ax.set_xlabel('Month')\n",
    "ax.set_ylabel('Number of Issues')\n",
    "ax.set_title('Monthly Number of New Issues for Each Cluster')\n",
    "\n",
    "# Set x-ticks to be month names\n",
    "ax.set_xticks(range(len(monthly_issues.columns)))\n",
    "ax.set_xticklabels([date.strftime('%B %Y') for date in monthly_issues.columns], rotation=45)\n",
    "\n",
    "ax.legend(title='Cluster Name')\n",
    "plt.show()\n"
   ]
  },
  {
   "cell_type": "markdown",
   "metadata": {},
   "source": [
    "# Dynamic"
   ]
  },
  {
   "cell_type": "code",
   "execution_count": 10,
   "metadata": {},
   "outputs": [
    {
     "data": {
      "application/vnd.plotly.v1+json": {
       "config": {
        "plotlyServerURL": "https://plot.ly"
       },
       "data": [
        {
         "alignmentgroup": "True",
         "customdata": [
          [
           "Würfel verreist noch nicht mal einer Woche kaputt (30.12.23)<br>Folie geht nach 1 Tag ab (25.12.23)<br>Broken after not a day use (23.12.23)"
          ],
          [
           "Folie löst sich nach einem Monat (22.01.24)<br>Folie komplett abgerissen nach mehreren Wochen (22.01.24)<br>Würfel unbrauchbar (22.01.24)<br>Folie geht auseinander (19.01.24)<br>Teile halten nur mit Folie zusammen (19.01.24)<br>Verbindung brach schnell nach (02.01.24)<br>nur noch äußerst vorsichtig genutzt werden kann (02.01.24)"
          ],
          [
           "nur eine leere Packung erhalten (17.02.24)<br>nichts drin außer das Handbuch und die Verpackung (17.02.24)<br>Die Folie auf dem Würfel ist nach zwei Monaten gerissen (10.02.24)"
          ],
          [
           "nicht stabil (21.03.24)<br>ziemlich schnell hinüber (21.03.24)"
          ],
          [
           "am nächsten Tag schon gerissen (10.04.24)"
          ],
          [
           "Die geklebte Folie löst sich ab (25.05.24)<br>Es war nach wenigen Minuten kaputt (05.05.24)"
          ]
         ],
         "hovertemplate": "%{customdata}",
         "legendgroup": "Durability Issues",
         "marker": {
          "color": "#636efa",
          "pattern": {
           "shape": ""
          }
         },
         "name": "Durability Issues",
         "offsetgroup": "Durability Issues",
         "orientation": "v",
         "showlegend": true,
         "textposition": "auto",
         "type": "bar",
         "x": [
          "2023-12-31T00:00:00",
          "2024-01-31T00:00:00",
          "2024-02-29T00:00:00",
          "2024-03-31T00:00:00",
          "2024-04-30T00:00:00",
          "2024-05-31T00:00:00"
         ],
         "xaxis": "x",
         "y": [
          3,
          7,
          3,
          2,
          1,
          2
         ],
         "yaxis": "y"
        },
        {
         "alignmentgroup": "True",
         "customdata": [
          [
           "zu teuer (27.12.23)<br>Für diesen Würfel 25,00 EURO zu verlangen ist zu viel. (18.12.23)"
          ],
          [
           "viel zu teuer verkauft (28.01.24)<br>zu teuer (25.01.24)<br>Preis zu hoch für überzogenen Kunststoff (22.01.24)<br>Preis von 25 € scheint mir etwas überteuert (21.01.24)<br>Preis zu hoch (19.01.24)<br>für den Preis ein wenig simpel (17.01.24)<br>Ist das Geld nicht wert (06.01.24)<br>Extrem überteuert (04.01.24)"
          ],
          [
           "Dafür ist er zu teuer (10.02.24)"
          ],
          [
           "Preis von um die 25 Euro aufzurufen, ist fast schon unverschämt (25.03.24)<br>viel zu teuer (21.03.24)"
          ],
          [
           "Angebotspreis von 20€ ist eine Frechheit (04.04.24)<br>Preis ist eindeutig zu hoch (04.04.24)<br>Für den hohen Preis habe ich deutlich mehr erwartet (04.04.24)"
          ],
          [
           "Dauerhaltbarkeit könnte deutlich besser sein (19.05.24)"
          ]
         ],
         "hovertemplate": "%{customdata}",
         "legendgroup": "Price Issues",
         "marker": {
          "color": "#EF553B",
          "pattern": {
           "shape": ""
          }
         },
         "name": "Price Issues",
         "offsetgroup": "Price Issues",
         "orientation": "v",
         "showlegend": true,
         "textposition": "auto",
         "type": "bar",
         "x": [
          "2023-12-31T00:00:00",
          "2024-01-31T00:00:00",
          "2024-02-29T00:00:00",
          "2024-03-31T00:00:00",
          "2024-04-30T00:00:00",
          "2024-05-31T00:00:00"
         ],
         "xaxis": "x",
         "y": [
          2,
          8,
          1,
          2,
          3,
          1
         ],
         "yaxis": "y"
        },
        {
         "alignmentgroup": "True",
         "customdata": [
          [
           "Ist ein bisschen ipsig (25.12.23)"
          ],
          [
           "einfachem Plastik (06.01.24)<br>bessere Qualität erwartet (02.01.24)"
          ],
          [
           "hergestellt aus einer Art Pappdeckel, der so filigran wirkt, als wenn gleich alles auseinander reisst (25.03.24)<br>Man muss beim ersten mal aufklappen schon aufpassen, dass man das Ding nicht gleich kaputt macht (25.03.24)<br>nicht stabil (21.03.24)"
          ],
          [
           "nicht robust genug für eine 8-jährige (15.04.24)"
          ]
         ],
         "hovertemplate": "%{customdata}",
         "legendgroup": "Quality Issues",
         "marker": {
          "color": "#00cc96",
          "pattern": {
           "shape": ""
          }
         },
         "name": "Quality Issues",
         "offsetgroup": "Quality Issues",
         "orientation": "v",
         "showlegend": true,
         "textposition": "auto",
         "type": "bar",
         "x": [
          "2023-12-31T00:00:00",
          "2024-01-31T00:00:00",
          "2024-03-31T00:00:00",
          "2024-04-30T00:00:00"
         ],
         "xaxis": "x",
         "y": [
          1,
          2,
          3,
          1
         ],
         "yaxis": "y"
        },
        {
         "alignmentgroup": "True",
         "customdata": [
          [
           "kleiner als erwartet (17.01.24)<br>Sehr klein (10.01.24)"
          ],
          [
           "zu klein (21.03.24)<br>Das Ding ist kleiner als es dargestellt wird. (06.03.24)"
          ]
         ],
         "hovertemplate": "%{customdata}",
         "legendgroup": "Size Issues",
         "marker": {
          "color": "#ab63fa",
          "pattern": {
           "shape": ""
          }
         },
         "name": "Size Issues",
         "offsetgroup": "Size Issues",
         "orientation": "v",
         "showlegend": true,
         "textposition": "auto",
         "type": "bar",
         "x": [
          "2024-01-31T00:00:00",
          "2024-03-31T00:00:00"
         ],
         "xaxis": "x",
         "y": [
          2,
          2
         ],
         "yaxis": "y"
        },
        {
         "alignmentgroup": "True",
         "customdata": [
          [
           "sehe da keinen „Spielwert“ (23.12.23)"
          ],
          [
           "nach 5 Minuten gelangweilt (25.01.24)<br>nichtmal aufbekommen (25.01.24)<br>mit Gewalt öffnen und kaputt machen (25.01.24)<br>nur aus Pappe (25.01.24)<br>Es gibt nur eine Lösung und ein paar triviale andere Figuren (04.01.24)<br>Nach 5 min hat man alles durch (04.01.24)<br>Kein vergleich mit Rubix (04.01.24)<br>Bin mega frustriert (04.01.24)<br>schwer ist nicht für 7 jährige (01.01.24)"
          ]
         ],
         "hovertemplate": "%{customdata}",
         "legendgroup": "Usability Issues",
         "marker": {
          "color": "#FFA15A",
          "pattern": {
           "shape": ""
          }
         },
         "name": "Usability Issues",
         "offsetgroup": "Usability Issues",
         "orientation": "v",
         "showlegend": true,
         "textposition": "auto",
         "type": "bar",
         "x": [
          "2023-12-31T00:00:00",
          "2024-01-31T00:00:00"
         ],
         "xaxis": "x",
         "y": [
          1,
          9
         ],
         "yaxis": "y"
        }
       ],
       "layout": {
        "bargap": 0.1,
        "barmode": "group",
        "legend": {
         "title": {
          "text": "Cluster Name"
         },
         "tracegroupgap": 0
        },
        "template": {
         "data": {
          "bar": [
           {
            "error_x": {
             "color": "#2a3f5f"
            },
            "error_y": {
             "color": "#2a3f5f"
            },
            "marker": {
             "line": {
              "color": "#E5ECF6",
              "width": 0.5
             },
             "pattern": {
              "fillmode": "overlay",
              "size": 10,
              "solidity": 0.2
             }
            },
            "type": "bar"
           }
          ],
          "barpolar": [
           {
            "marker": {
             "line": {
              "color": "#E5ECF6",
              "width": 0.5
             },
             "pattern": {
              "fillmode": "overlay",
              "size": 10,
              "solidity": 0.2
             }
            },
            "type": "barpolar"
           }
          ],
          "carpet": [
           {
            "aaxis": {
             "endlinecolor": "#2a3f5f",
             "gridcolor": "white",
             "linecolor": "white",
             "minorgridcolor": "white",
             "startlinecolor": "#2a3f5f"
            },
            "baxis": {
             "endlinecolor": "#2a3f5f",
             "gridcolor": "white",
             "linecolor": "white",
             "minorgridcolor": "white",
             "startlinecolor": "#2a3f5f"
            },
            "type": "carpet"
           }
          ],
          "choropleth": [
           {
            "colorbar": {
             "outlinewidth": 0,
             "ticks": ""
            },
            "type": "choropleth"
           }
          ],
          "contour": [
           {
            "colorbar": {
             "outlinewidth": 0,
             "ticks": ""
            },
            "colorscale": [
             [
              0,
              "#0d0887"
             ],
             [
              0.1111111111111111,
              "#46039f"
             ],
             [
              0.2222222222222222,
              "#7201a8"
             ],
             [
              0.3333333333333333,
              "#9c179e"
             ],
             [
              0.4444444444444444,
              "#bd3786"
             ],
             [
              0.5555555555555556,
              "#d8576b"
             ],
             [
              0.6666666666666666,
              "#ed7953"
             ],
             [
              0.7777777777777778,
              "#fb9f3a"
             ],
             [
              0.8888888888888888,
              "#fdca26"
             ],
             [
              1,
              "#f0f921"
             ]
            ],
            "type": "contour"
           }
          ],
          "contourcarpet": [
           {
            "colorbar": {
             "outlinewidth": 0,
             "ticks": ""
            },
            "type": "contourcarpet"
           }
          ],
          "heatmap": [
           {
            "colorbar": {
             "outlinewidth": 0,
             "ticks": ""
            },
            "colorscale": [
             [
              0,
              "#0d0887"
             ],
             [
              0.1111111111111111,
              "#46039f"
             ],
             [
              0.2222222222222222,
              "#7201a8"
             ],
             [
              0.3333333333333333,
              "#9c179e"
             ],
             [
              0.4444444444444444,
              "#bd3786"
             ],
             [
              0.5555555555555556,
              "#d8576b"
             ],
             [
              0.6666666666666666,
              "#ed7953"
             ],
             [
              0.7777777777777778,
              "#fb9f3a"
             ],
             [
              0.8888888888888888,
              "#fdca26"
             ],
             [
              1,
              "#f0f921"
             ]
            ],
            "type": "heatmap"
           }
          ],
          "heatmapgl": [
           {
            "colorbar": {
             "outlinewidth": 0,
             "ticks": ""
            },
            "colorscale": [
             [
              0,
              "#0d0887"
             ],
             [
              0.1111111111111111,
              "#46039f"
             ],
             [
              0.2222222222222222,
              "#7201a8"
             ],
             [
              0.3333333333333333,
              "#9c179e"
             ],
             [
              0.4444444444444444,
              "#bd3786"
             ],
             [
              0.5555555555555556,
              "#d8576b"
             ],
             [
              0.6666666666666666,
              "#ed7953"
             ],
             [
              0.7777777777777778,
              "#fb9f3a"
             ],
             [
              0.8888888888888888,
              "#fdca26"
             ],
             [
              1,
              "#f0f921"
             ]
            ],
            "type": "heatmapgl"
           }
          ],
          "histogram": [
           {
            "marker": {
             "pattern": {
              "fillmode": "overlay",
              "size": 10,
              "solidity": 0.2
             }
            },
            "type": "histogram"
           }
          ],
          "histogram2d": [
           {
            "colorbar": {
             "outlinewidth": 0,
             "ticks": ""
            },
            "colorscale": [
             [
              0,
              "#0d0887"
             ],
             [
              0.1111111111111111,
              "#46039f"
             ],
             [
              0.2222222222222222,
              "#7201a8"
             ],
             [
              0.3333333333333333,
              "#9c179e"
             ],
             [
              0.4444444444444444,
              "#bd3786"
             ],
             [
              0.5555555555555556,
              "#d8576b"
             ],
             [
              0.6666666666666666,
              "#ed7953"
             ],
             [
              0.7777777777777778,
              "#fb9f3a"
             ],
             [
              0.8888888888888888,
              "#fdca26"
             ],
             [
              1,
              "#f0f921"
             ]
            ],
            "type": "histogram2d"
           }
          ],
          "histogram2dcontour": [
           {
            "colorbar": {
             "outlinewidth": 0,
             "ticks": ""
            },
            "colorscale": [
             [
              0,
              "#0d0887"
             ],
             [
              0.1111111111111111,
              "#46039f"
             ],
             [
              0.2222222222222222,
              "#7201a8"
             ],
             [
              0.3333333333333333,
              "#9c179e"
             ],
             [
              0.4444444444444444,
              "#bd3786"
             ],
             [
              0.5555555555555556,
              "#d8576b"
             ],
             [
              0.6666666666666666,
              "#ed7953"
             ],
             [
              0.7777777777777778,
              "#fb9f3a"
             ],
             [
              0.8888888888888888,
              "#fdca26"
             ],
             [
              1,
              "#f0f921"
             ]
            ],
            "type": "histogram2dcontour"
           }
          ],
          "mesh3d": [
           {
            "colorbar": {
             "outlinewidth": 0,
             "ticks": ""
            },
            "type": "mesh3d"
           }
          ],
          "parcoords": [
           {
            "line": {
             "colorbar": {
              "outlinewidth": 0,
              "ticks": ""
             }
            },
            "type": "parcoords"
           }
          ],
          "pie": [
           {
            "automargin": true,
            "type": "pie"
           }
          ],
          "scatter": [
           {
            "fillpattern": {
             "fillmode": "overlay",
             "size": 10,
             "solidity": 0.2
            },
            "type": "scatter"
           }
          ],
          "scatter3d": [
           {
            "line": {
             "colorbar": {
              "outlinewidth": 0,
              "ticks": ""
             }
            },
            "marker": {
             "colorbar": {
              "outlinewidth": 0,
              "ticks": ""
             }
            },
            "type": "scatter3d"
           }
          ],
          "scattercarpet": [
           {
            "marker": {
             "colorbar": {
              "outlinewidth": 0,
              "ticks": ""
             }
            },
            "type": "scattercarpet"
           }
          ],
          "scattergeo": [
           {
            "marker": {
             "colorbar": {
              "outlinewidth": 0,
              "ticks": ""
             }
            },
            "type": "scattergeo"
           }
          ],
          "scattergl": [
           {
            "marker": {
             "colorbar": {
              "outlinewidth": 0,
              "ticks": ""
             }
            },
            "type": "scattergl"
           }
          ],
          "scattermapbox": [
           {
            "marker": {
             "colorbar": {
              "outlinewidth": 0,
              "ticks": ""
             }
            },
            "type": "scattermapbox"
           }
          ],
          "scatterpolar": [
           {
            "marker": {
             "colorbar": {
              "outlinewidth": 0,
              "ticks": ""
             }
            },
            "type": "scatterpolar"
           }
          ],
          "scatterpolargl": [
           {
            "marker": {
             "colorbar": {
              "outlinewidth": 0,
              "ticks": ""
             }
            },
            "type": "scatterpolargl"
           }
          ],
          "scatterternary": [
           {
            "marker": {
             "colorbar": {
              "outlinewidth": 0,
              "ticks": ""
             }
            },
            "type": "scatterternary"
           }
          ],
          "surface": [
           {
            "colorbar": {
             "outlinewidth": 0,
             "ticks": ""
            },
            "colorscale": [
             [
              0,
              "#0d0887"
             ],
             [
              0.1111111111111111,
              "#46039f"
             ],
             [
              0.2222222222222222,
              "#7201a8"
             ],
             [
              0.3333333333333333,
              "#9c179e"
             ],
             [
              0.4444444444444444,
              "#bd3786"
             ],
             [
              0.5555555555555556,
              "#d8576b"
             ],
             [
              0.6666666666666666,
              "#ed7953"
             ],
             [
              0.7777777777777778,
              "#fb9f3a"
             ],
             [
              0.8888888888888888,
              "#fdca26"
             ],
             [
              1,
              "#f0f921"
             ]
            ],
            "type": "surface"
           }
          ],
          "table": [
           {
            "cells": {
             "fill": {
              "color": "#EBF0F8"
             },
             "line": {
              "color": "white"
             }
            },
            "header": {
             "fill": {
              "color": "#C8D4E3"
             },
             "line": {
              "color": "white"
             }
            },
            "type": "table"
           }
          ]
         },
         "layout": {
          "annotationdefaults": {
           "arrowcolor": "#2a3f5f",
           "arrowhead": 0,
           "arrowwidth": 1
          },
          "autotypenumbers": "strict",
          "coloraxis": {
           "colorbar": {
            "outlinewidth": 0,
            "ticks": ""
           }
          },
          "colorscale": {
           "diverging": [
            [
             0,
             "#8e0152"
            ],
            [
             0.1,
             "#c51b7d"
            ],
            [
             0.2,
             "#de77ae"
            ],
            [
             0.3,
             "#f1b6da"
            ],
            [
             0.4,
             "#fde0ef"
            ],
            [
             0.5,
             "#f7f7f7"
            ],
            [
             0.6,
             "#e6f5d0"
            ],
            [
             0.7,
             "#b8e186"
            ],
            [
             0.8,
             "#7fbc41"
            ],
            [
             0.9,
             "#4d9221"
            ],
            [
             1,
             "#276419"
            ]
           ],
           "sequential": [
            [
             0,
             "#0d0887"
            ],
            [
             0.1111111111111111,
             "#46039f"
            ],
            [
             0.2222222222222222,
             "#7201a8"
            ],
            [
             0.3333333333333333,
             "#9c179e"
            ],
            [
             0.4444444444444444,
             "#bd3786"
            ],
            [
             0.5555555555555556,
             "#d8576b"
            ],
            [
             0.6666666666666666,
             "#ed7953"
            ],
            [
             0.7777777777777778,
             "#fb9f3a"
            ],
            [
             0.8888888888888888,
             "#fdca26"
            ],
            [
             1,
             "#f0f921"
            ]
           ],
           "sequentialminus": [
            [
             0,
             "#0d0887"
            ],
            [
             0.1111111111111111,
             "#46039f"
            ],
            [
             0.2222222222222222,
             "#7201a8"
            ],
            [
             0.3333333333333333,
             "#9c179e"
            ],
            [
             0.4444444444444444,
             "#bd3786"
            ],
            [
             0.5555555555555556,
             "#d8576b"
            ],
            [
             0.6666666666666666,
             "#ed7953"
            ],
            [
             0.7777777777777778,
             "#fb9f3a"
            ],
            [
             0.8888888888888888,
             "#fdca26"
            ],
            [
             1,
             "#f0f921"
            ]
           ]
          },
          "colorway": [
           "#636efa",
           "#EF553B",
           "#00cc96",
           "#ab63fa",
           "#FFA15A",
           "#19d3f3",
           "#FF6692",
           "#B6E880",
           "#FF97FF",
           "#FECB52"
          ],
          "font": {
           "color": "#2a3f5f"
          },
          "geo": {
           "bgcolor": "white",
           "lakecolor": "white",
           "landcolor": "#E5ECF6",
           "showlakes": true,
           "showland": true,
           "subunitcolor": "white"
          },
          "hoverlabel": {
           "align": "left"
          },
          "hovermode": "closest",
          "mapbox": {
           "style": "light"
          },
          "paper_bgcolor": "white",
          "plot_bgcolor": "#E5ECF6",
          "polar": {
           "angularaxis": {
            "gridcolor": "white",
            "linecolor": "white",
            "ticks": ""
           },
           "bgcolor": "#E5ECF6",
           "radialaxis": {
            "gridcolor": "white",
            "linecolor": "white",
            "ticks": ""
           }
          },
          "scene": {
           "xaxis": {
            "backgroundcolor": "#E5ECF6",
            "gridcolor": "white",
            "gridwidth": 2,
            "linecolor": "white",
            "showbackground": true,
            "ticks": "",
            "zerolinecolor": "white"
           },
           "yaxis": {
            "backgroundcolor": "#E5ECF6",
            "gridcolor": "white",
            "gridwidth": 2,
            "linecolor": "white",
            "showbackground": true,
            "ticks": "",
            "zerolinecolor": "white"
           },
           "zaxis": {
            "backgroundcolor": "#E5ECF6",
            "gridcolor": "white",
            "gridwidth": 2,
            "linecolor": "white",
            "showbackground": true,
            "ticks": "",
            "zerolinecolor": "white"
           }
          },
          "shapedefaults": {
           "line": {
            "color": "#2a3f5f"
           }
          },
          "ternary": {
           "aaxis": {
            "gridcolor": "white",
            "linecolor": "white",
            "ticks": ""
           },
           "baxis": {
            "gridcolor": "white",
            "linecolor": "white",
            "ticks": ""
           },
           "bgcolor": "#E5ECF6",
           "caxis": {
            "gridcolor": "white",
            "linecolor": "white",
            "ticks": ""
           }
          },
          "title": {
           "x": 0.05
          },
          "xaxis": {
           "automargin": true,
           "gridcolor": "white",
           "linecolor": "white",
           "ticks": "",
           "title": {
            "standoff": 15
           },
           "zerolinecolor": "white",
           "zerolinewidth": 2
          },
          "yaxis": {
           "automargin": true,
           "gridcolor": "white",
           "linecolor": "white",
           "ticks": "",
           "title": {
            "standoff": 15
           },
           "zerolinecolor": "white",
           "zerolinewidth": 2
          }
         }
        },
        "title": {
         "text": "Monthly Number of New Issues for Each Cluster"
        },
        "width": 1000,
        "xaxis": {
         "anchor": "y",
         "domain": [
          0,
          1
         ],
         "title": {
          "text": "Month"
         }
        },
        "yaxis": {
         "anchor": "x",
         "domain": [
          0,
          1
         ],
         "title": {
          "text": "Number of Issues"
         }
        }
       }
      }
     },
     "metadata": {},
     "output_type": "display_data"
    }
   ],
   "source": [
    "import pandas as pd\n",
    "import plotly.express as px\n",
    "import locale\n",
    "\n",
    "# Set locale to English\n",
    "locale.setlocale(locale.LC_TIME, 'en_US.UTF-8')\n",
    "\n",
    "# Sample data\n",
    "data = pd.merge(issues, dates_df, on='Review ID')\n",
    "\n",
    "# Convert 'date' column to datetime if not already\n",
    "data['date'] = pd.to_datetime(data['date'])\n",
    "\n",
    "# Resample to monthly frequency and count the number of issues\n",
    "monthly_issues = data.groupby(['Cluster Name', pd.Grouper(key='date', freq='ME')]).size().reset_index(name='Issue Count')\n",
    "\n",
    "# Create a string for the hover data combining issue descriptions\n",
    "data['hover_text'] = data['Issue'] + \" (\" + data['date'].dt.strftime('%d.%m.%y') + \")\"\n",
    "hover_text_df = data.groupby(['Cluster Name', pd.Grouper(key='date', freq='ME')])['hover_text'].apply(lambda x: '<br>'.join(x)).reset_index()\n",
    "\n",
    "# Merge hover_text back to monthly_issues\n",
    "monthly_issues = monthly_issues.merge(hover_text_df, on=['date', 'Cluster Name'], how='left')\n",
    "\n",
    "# Plot using plotly\n",
    "fig = px.bar(monthly_issues, x='date', y='Issue Count', color='Cluster Name', barmode='group',\n",
    "             custom_data=['hover_text'],\n",
    "             title='Monthly Number of New Issues for Each Cluster')\n",
    "\n",
    "# Update hover template to show issues only\n",
    "fig.update_traces(hovertemplate='%{customdata}')\n",
    "\n",
    "fig.update_layout(xaxis_title='Month', yaxis_title='Number of Issues',  width=1000,  # Set the width of the plot\n",
    "    bargap=0.1)   # Set the gap between bars (0 to 1, where 0 is no gap and 1 is full gap))\n",
    "\n",
    "fig.write_html(\"plot.html\")\n",
    "\n",
    "\n",
    "fig.show()"
   ]
  },
  {
   "cell_type": "code",
   "execution_count": null,
   "metadata": {},
   "outputs": [],
   "source": []
  }
 ],
 "metadata": {
  "kernelspec": {
   "display_name": "langchain",
   "language": "python",
   "name": "python3"
  },
  "language_info": {
   "codemirror_mode": {
    "name": "ipython",
    "version": 3
   },
   "file_extension": ".py",
   "mimetype": "text/x-python",
   "name": "python",
   "nbconvert_exporter": "python",
   "pygments_lexer": "ipython3",
   "version": "3.11.9"
  }
 },
 "nbformat": 4,
 "nbformat_minor": 2
}
