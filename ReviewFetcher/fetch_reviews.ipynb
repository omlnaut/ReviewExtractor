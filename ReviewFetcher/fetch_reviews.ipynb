{
 "cells": [
  {
   "cell_type": "code",
   "execution_count": 1,
   "metadata": {},
   "outputs": [],
   "source": [
    "# import module\n",
    "import requests\n",
    "from bs4 import BeautifulSoup\n",
    "from pathlib import Path"
   ]
  },
  {
   "cell_type": "code",
   "execution_count": 2,
   "metadata": {},
   "outputs": [],
   "source": [
    "url = 'https://www.amazon.de/Relaxdays-Rankobelisk-beschichtetes-witterungsbest%C3%A4ndige-Rankhilfe/product-reviews/B004W1HEJ8/ref=cm_cr_arp_d_viewopt_srt?ie=UTF8&reviewerType=all_reviews&pageNumber={page}&sortBy=recent'"
   ]
  },
  {
   "cell_type": "code",
   "execution_count": 3,
   "metadata": {},
   "outputs": [],
   "source": [
    "class AmazonScraper:\n",
    "    HEADERS = ({'User-Agent':\n",
    "        'Mozilla/5.0 (Windows NT 10.0; Win64; x64) \\\n",
    "        AppleWebKit/537.36 (KHTML, like Gecko) \\\n",
    "        Chrome/90.0.4430.212 Safari/537.36',\n",
    "        'Accept-Language': 'en-US, en;q=0.5'})\n",
    "\n",
    "    def __init__(self):\n",
    "        self.session = requests.Session()\n",
    "        self.session.headers.update(self.HEADERS)\n",
    "\n",
    "    def make_request(self, url) -> requests.models.Response:\n",
    "        \"\"\"Make a request to the given url and return the response\"\"\"\n",
    "        response = self.session.get(url)\n",
    "        if response.status_code != 200:\n",
    "            print(f\"Error: {response.status_code}\")\n",
    "        return response\n",
    "\n",
    "    def get_soup(self, response: requests.models.Response) -> BeautifulSoup:\n",
    "        \"\"\"Return a BeautifulSoup object from the given response\"\"\"\n",
    "        soup = BeautifulSoup(response.content, 'html.parser')\n",
    "        return soup\n",
    "\n",
    "\n",
    "\n",
    "    def extract_reviews(self, soup: BeautifulSoup) -> list[str]:\n",
    "        reviews = []\n",
    "        outer_spans = soup.find_all('span', attrs={'data-hook': 'review-body'})\n",
    "        for outer_span in outer_spans:\n",
    "            try:\n",
    "                inner_span = outer_span.find('span')\n",
    "                review_text = inner_span.text.strip()\n",
    "                reviews.append(review_text)\n",
    "            except:\n",
    "                print(f\"skipping span {outer_span}\")\n",
    "        return reviews"
   ]
  },
  {
   "cell_type": "code",
   "execution_count": 4,
   "metadata": {},
   "outputs": [],
   "source": [
    "def save_response_content(response: requests.models.Response, path: Path):\n",
    "    with open(path, 'wb') as f:\n",
    "        f.write(response.content)"
   ]
  },
  {
   "cell_type": "code",
   "execution_count": 5,
   "metadata": {},
   "outputs": [],
   "source": [
    "from dataclasses import dataclass\n",
    "from datetime import datetime\n",
    "\n",
    "@dataclass\n",
    "class Review:\n",
    "    title: str\n",
    "    text: str\n",
    "    rating: int\n",
    "    date: datetime\n",
    "\n",
    "    def to_file(self, path: Path):\n",
    "        with open(path, 'w') as f:\n",
    "            f.write(f'title: {self.title} \\n')\n",
    "            f.write(f'text: {self.text} \\n')\n",
    "            f.write(f'rating: {self.rating} \\n')"
   ]
  },
  {
   "cell_type": "code",
   "execution_count": 6,
   "metadata": {},
   "outputs": [],
   "source": [
    "import locale\n",
    "import re\n",
    "\n",
    "def has_customer_review_id(tag):\n",
    "    return tag.has_attr('id') and tag['id'].startswith('customer_review')\n",
    "\n",
    "def extract_date_str(date_element_text: str) -> str:\n",
    "    date_pattern = r'\\d+\\.\\s\\w+\\s\\d+'\n",
    "    date_match = re.search(date_pattern, date_element_text)\n",
    "    if date_match:\n",
    "        extracted_date = date_match.group()\n",
    "        return extracted_date\n",
    "    else:\n",
    "        return \"No date found\"\n",
    "\n",
    "def parse_to_date_object(date_str: str) -> datetime:\n",
    "    locale.setlocale(locale.LC_TIME, 'de_DE.utf8')\n",
    "    date_obj = datetime.strptime(date_str, \"%d. %B %Y\")\n",
    "    return date_obj\n",
    "\n",
    "\n",
    "def parse_to_date_object(date_str: str) -> datetime:\n",
    "    locale.setlocale(locale.LC_TIME, 'de_DE.utf8')\n",
    "    date_obj = datetime.strptime(date_str, \"%d. %B %Y\")\n",
    "    return date_obj\n",
    "\n",
    "def scrape_page(soup: BeautifulSoup, counter:int) -> int:\n",
    "    reviews_divs = soup.find_all(has_customer_review_id)\n",
    "    for review_div in reviews_divs:\n",
    "        print(f\"processing review {counter}\")\n",
    "        # Extract title\n",
    "        title = review_div.find('a', {'data-hook': 'review-title'}).text.strip()\n",
    "        \n",
    "        # Extract number of stars\n",
    "        stars = review_div.find('i', {'data-hook': 'review-star-rating'}).find('span').text.strip()\n",
    "        \n",
    "        # Extract review text - assuming it is contained in a p element with 'data-hook': 'review-body'\n",
    "        review_text = review_div.find('span', {'data-hook': 'review-body'}).text.strip()\n",
    "\n",
    "\n",
    "        # Extract date\n",
    "        date_element_text = review_div.find('span', {'data-hook': 'review-date'}).text.strip()\n",
    "        date_str = extract_date_str(date_element_text)\n",
    "        date_obj = parse_to_date_object(date_str)\n",
    "        \n",
    "\n",
    "        review = Review(title=title, text=review_text, rating=stars, date=date_obj)\n",
    "        review.to_file(Path(f'raw_reviews/review_{counter}.txt'))\n",
    "        counter += 1\n",
    "        break\n",
    "\n",
    "    return counter"
   ]
  },
  {
   "cell_type": "code",
   "execution_count": 7,
   "metadata": {},
   "outputs": [],
   "source": [
    "scraper = AmazonScraper()"
   ]
  },
  {
   "cell_type": "code",
   "execution_count": 9,
   "metadata": {},
   "outputs": [],
   "source": [
    "response = scraper.make_request(url.format(page=1))\n",
    "soup = scraper.get_soup(response)"
   ]
  },
  {
   "cell_type": "code",
   "execution_count": 11,
   "metadata": {},
   "outputs": [
    {
     "data": {
      "text/plain": [
       "1"
      ]
     },
     "execution_count": 11,
     "metadata": {},
     "output_type": "execute_result"
    }
   ],
   "source": [
    "scrape_page(soup, 1)"
   ]
  },
  {
   "cell_type": "code",
   "execution_count": null,
   "metadata": {},
   "outputs": [],
   "source": []
  }
 ],
 "metadata": {
  "kernelspec": {
   "display_name": "langchain",
   "language": "python",
   "name": "python3"
  },
  "language_info": {
   "codemirror_mode": {
    "name": "ipython",
    "version": 3
   },
   "file_extension": ".py",
   "mimetype": "text/x-python",
   "name": "python",
   "nbconvert_exporter": "python",
   "pygments_lexer": "ipython3",
   "version": "3.11.9"
  },
  "orig_nbformat": 4
 },
 "nbformat": 4,
 "nbformat_minor": 2
}
