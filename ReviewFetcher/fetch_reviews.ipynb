{
 "cells": [
  {
   "cell_type": "code",
   "execution_count": 1,
   "metadata": {},
   "outputs": [],
   "source": [
    "from bs4 import BeautifulSoup\n",
    "from pathlib import Path"
   ]
  },
  {
   "cell_type": "markdown",
   "metadata": {},
   "source": [
    "Base amazon url: https://www.amazon.de/SHASHIBO-Formwechsel-Zauberw%C3%BCrfel-Preisgekr%C3%B6nt-Seltenerdmagnete/dp/B07W5QM4DP/ref=cm_cr_arp_d_product_top?ie=UTF8"
   ]
  },
  {
   "cell_type": "code",
   "execution_count": 7,
   "metadata": {},
   "outputs": [],
   "source": [
    "from dataclasses import dataclass, asdict\n",
    "from datetime import datetime\n",
    "\n",
    "@dataclass\n",
    "class Review:\n",
    "    title: str\n",
    "    text: str\n",
    "    rating: int\n",
    "    date: datetime\n",
    "\n",
    "    def to_file(self, path: Path):\n",
    "        with open(path, 'w') as f:\n",
    "            f.write(str(asdict(self)))"
   ]
  },
  {
   "cell_type": "code",
   "execution_count": 8,
   "metadata": {},
   "outputs": [],
   "source": [
    "import locale\n",
    "import re\n",
    "\n",
    "def get_soup(content: str) -> BeautifulSoup:\n",
    "    \"\"\"Return a BeautifulSoup object from the given response\"\"\"\n",
    "    soup = BeautifulSoup(content, 'html.parser')\n",
    "    return soup\n",
    "\n",
    "def has_customer_review_id(tag):\n",
    "    return tag.has_attr('id') and tag['id'].startswith('customer_review')\n",
    "\n",
    "def extract_date_str(date_element_text: str) -> str:\n",
    "    date_pattern = r'\\d+\\.\\s\\w+\\s\\d+'\n",
    "    date_match = re.search(date_pattern, date_element_text)\n",
    "    if date_match:\n",
    "        extracted_date = date_match.group()\n",
    "        return extracted_date\n",
    "    else:\n",
    "        return \"No date found\"\n",
    "\n",
    "\n",
    "def parse_to_date_object(date_str: str) -> datetime:\n",
    "    locale.setlocale(locale.LC_TIME, 'de_DE')\n",
    "    date_obj = datetime.strptime(date_str, \"%d. %B %Y\")\n",
    "    return date_obj\n",
    "\n",
    "def scrape_page(soup: BeautifulSoup, counter:int) -> int:\n",
    "    reviews_divs = soup.find_all(has_customer_review_id)\n",
    "    for review_div in reviews_divs:\n",
    "        print(f\"processing review {counter}\")\n",
    "        # Extract title\n",
    "        title = review_div.find('a', {'data-hook': 'review-title'}).text.strip()\n",
    "        \n",
    "        # Extract number of stars\n",
    "        stars = review_div.find('i', {'data-hook': 'review-star-rating'}).find('span').text.strip()\n",
    "        \n",
    "        # Extract review text - assuming it is contained in a p element with 'data-hook': 'review-body'\n",
    "        review_text = review_div.find('span', {'data-hook': 'review-body'}).text.strip()\n",
    "\n",
    "\n",
    "        # Extract date\n",
    "        date_element_text = review_div.find('span', {'data-hook': 'review-date'}).text.strip()\n",
    "        date_str = extract_date_str(date_element_text)\n",
    "        date_obj = parse_to_date_object(date_str)\n",
    "        \n",
    "\n",
    "        review = Review(title=title, text=review_text, rating=stars, date=date_obj)\n",
    "        review.to_file(Path(f'raw_reviews/review_{counter}.txt'))\n",
    "        counter += 1\n",
    "\n",
    "    return counter"
   ]
  },
  {
   "cell_type": "code",
   "execution_count": 9,
   "metadata": {},
   "outputs": [
    {
     "data": {
      "text/plain": [
       "'<!doctype html><html lang=\"de-de\" class=\"a-no-js\" data-19ax5a9jf=\"dingo\"><!-- sp:feature:head-start '"
      ]
     },
     "execution_count": 9,
     "metadata": {},
     "output_type": "execute_result"
    }
   ],
   "source": [
    "content = Path('raw_pages/page1.html').read_text()\n",
    "content[:100]"
   ]
  },
  {
   "cell_type": "code",
   "execution_count": 10,
   "metadata": {},
   "outputs": [
    {
     "name": "stdout",
     "output_type": "stream",
     "text": [
      "processing review 1\n",
      "processing review 2\n",
      "processing review 3\n",
      "processing review 4\n",
      "processing review 5\n",
      "processing review 6\n",
      "processing review 7\n",
      "processing review 8\n",
      "processing review 9\n",
      "processing review 10\n"
     ]
    },
    {
     "data": {
      "text/plain": [
       "11"
      ]
     },
     "execution_count": 10,
     "metadata": {},
     "output_type": "execute_result"
    }
   ],
   "source": [
    "soup = get_soup(content)\n",
    "\n",
    "scrape_page(soup, 1)"
   ]
  },
  {
   "cell_type": "code",
   "execution_count": null,
   "metadata": {},
   "outputs": [],
   "source": []
  }
 ],
 "metadata": {
  "kernelspec": {
   "display_name": "langchain",
   "language": "python",
   "name": "python3"
  },
  "language_info": {
   "codemirror_mode": {
    "name": "ipython",
    "version": 3
   },
   "file_extension": ".py",
   "mimetype": "text/x-python",
   "name": "python",
   "nbconvert_exporter": "python",
   "pygments_lexer": "ipython3",
   "version": "3.11.9"
  },
  "orig_nbformat": 4
 },
 "nbformat": 4,
 "nbformat_minor": 2
}
