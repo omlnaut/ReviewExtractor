{
 "cells": [
  {
   "cell_type": "markdown",
   "metadata": {},
   "source": [
    "This worked in web chatgpt:\n",
    "\n",
    "You are given a json of format {id: [\"issue1\", \"issue2\", ....]}\n",
    "\n",
    "I want you to cluster those issues into overarching critique points. Respond with:\n",
    "\n",
    "[{\"name\": <name of cluster>, \"description\": \"<brief description>\", \"ids\": [{id: <critique id>, issues: [<list of issues from that critique that were associated with this cluster. Not all issues mentioned might belong to the same cluster>]}]}]"
   ]
  },
  {
   "cell_type": "markdown",
   "metadata": {},
   "source": []
  }
 ],
 "metadata": {
  "language_info": {
   "name": "python"
  }
 },
 "nbformat": 4,
 "nbformat_minor": 2
}
