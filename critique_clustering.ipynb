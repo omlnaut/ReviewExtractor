{
 "cells": [
  {
   "cell_type": "markdown",
   "metadata": {},
   "source": [
    "# Clustering of issues"
   ]
  },
  {
   "cell_type": "code",
   "execution_count": 12,
   "metadata": {},
   "outputs": [],
   "source": [
    "from utils import load_openai_key\n",
    "\n",
    "load_openai_key()"
   ]
  },
  {
   "cell_type": "code",
   "execution_count": 53,
   "metadata": {},
   "outputs": [],
   "source": [
    "from langchain_core.prompts import ChatPromptTemplate\n",
    "\n",
    "prompt_msg = ChatPromptTemplate.from_template(\"\"\"\n",
    "    You are given a json of format {{id: [\"issue1\", \"issue2\", ....]}}\n",
    "\n",
    "    I want you to cluster those issues into overarching critique points.\n",
    "\n",
    "    Json with issues:\n",
    "    {input}\n",
    "\"\"\")"
   ]
  },
  {
   "cell_type": "code",
   "execution_count": 54,
   "metadata": {},
   "outputs": [],
   "source": [
    "from langchain_core.pydantic_v1 import BaseModel, Field\n",
    "\n",
    "class IssuesWithId(BaseModel):\n",
    "    id: int = Field(..., description=\"ID of the issue\")\n",
    "    issues: list[str] = Field(..., description=\"list of issues from that critique that were associated with this cluster. Not all issues mentioned might belong to the same cluster\")\n",
    "    def __str__(self):\n",
    "        return f\"{self.id}: {self.issues}\"\n",
    "\n",
    "class ClusterRequest(BaseModel):\n",
    "    name: str = Field(..., description=\"Name of the cluster\")\n",
    "    description: str = Field(..., description=\"Brief description of what defines the cluster\")\n",
    "    ids: list[IssuesWithId] = Field(..., description=\"List of issues with their respective IDs\")\n",
    "    def __str__(self):\n",
    "        return f\"{self.name}: {self.description}\\n{self.ids}\"\n",
    "\n",
    "class ClustersResponse(BaseModel):\n",
    "    clusters: list[ClusterRequest] = Field(..., description=\"List of clusters\")\n",
    "    def __str__(self):\n",
    "        return f\"{self.clusters}\""
   ]
  },
  {
   "cell_type": "code",
   "execution_count": 67,
   "metadata": {},
   "outputs": [],
   "source": [
    "from langchain_openai import ChatOpenAI\n",
    "llm = ChatOpenAI(temperature=0, model=\"gpt-4o\").with_structured_output(ClustersResponse)"
   ]
  },
  {
   "cell_type": "code",
   "execution_count": 68,
   "metadata": {},
   "outputs": [],
   "source": [
    "chain = prompt_msg | llm"
   ]
  },
  {
   "cell_type": "code",
   "execution_count": 69,
   "metadata": {},
   "outputs": [],
   "source": [
    "import json\n",
    "\n",
    "\n",
    "extracted_issues = json.load(open(\"extracted_issues.json\"))"
   ]
  },
  {
   "cell_type": "code",
   "execution_count": 70,
   "metadata": {},
   "outputs": [],
   "source": [
    "response = chain.invoke({\"input\": str(extracted_issues)} )"
   ]
  },
  {
   "cell_type": "code",
   "execution_count": 72,
   "metadata": {},
   "outputs": [
    {
     "data": {
      "text/plain": [
       "[ClusterRequest(name='Durability Issues', description='Issues related to the product breaking or wearing out quickly', ids=[IssuesWithId(id=0, issues=['Die geklebte Folie löst sich ab']), IssuesWithId(id=2, issues=['Es war nach wenigen Minuten kaputt']), IssuesWithId(id=4, issues=['am nächsten Tag schon gerissen']), IssuesWithId(id=8, issues=['nicht stabil', 'ziemlich schnell hinüber']), IssuesWithId(id=10, issues=['nur eine leere Packung erhalten', 'nichts drin außer das Handbuch und die Verpackung']), IssuesWithId(id=11, issues=['Die Folie auf dem Würfel ist nach zwei Monaten gerissen']), IssuesWithId(id=14, issues=['Folie löst sich nach einem Monat', 'Folie komplett abgerissen nach mehreren Wochen', 'Würfel unbrauchbar']), IssuesWithId(id=16, issues=['Folie geht auseinander', 'Teile halten nur mit Folie zusammen']), IssuesWithId(id=21, issues=['Verbindung brach schnell nach', 'nur noch äußerst vorsichtig genutzt werden kann']), IssuesWithId(id=23, issues=['Würfel verreist noch nicht mal einer Woche kaputt']), IssuesWithId(id=25, issues=['Folie geht nach 1 Tag ab']), IssuesWithId(id=28, issues=['Broken after not a day use'])]),\n",
       " ClusterRequest(name='Price Issues', description='Issues related to the product being too expensive or not worth the price', ids=[IssuesWithId(id=1, issues=['Dauerhaltbarkeit könnte deutlich besser sein']), IssuesWithId(id=5, issues=['Angebotspreis von 20€ ist eine Frechheit', 'Preis ist eindeutig zu hoch', 'Für den hohen Preis habe ich deutlich mehr erwartet']), IssuesWithId(id=6, issues=['Preis von um die 25 Euro aufzurufen, ist fast schon unverschämt']), IssuesWithId(id=7, issues=['viel zu teuer']), IssuesWithId(id=11, issues=['Dafür ist er zu teuer']), IssuesWithId(id=12, issues=['viel zu teuer verkauft']), IssuesWithId(id=13, issues=['zu teuer']), IssuesWithId(id=14, issues=['Preis zu hoch für überzogenen Kunststoff']), IssuesWithId(id=15, issues=['Preis von 25 € scheint mir etwas überteuert']), IssuesWithId(id=16, issues=['Preis zu hoch']), IssuesWithId(id=17, issues=['für den Preis ein wenig simpel']), IssuesWithId(id=19, issues=['Ist das Geld nicht wert']), IssuesWithId(id=20, issues=['Extrem überteuert']), IssuesWithId(id=24, issues=['zu teuer']), IssuesWithId(id=29, issues=['Für diesen Würfel 25,00 EURO zu verlangen ist zu viel.'])]),\n",
       " ClusterRequest(name='Size Issues', description='Issues related to the product being too small or not as expected in size', ids=[IssuesWithId(id=7, issues=['zu klein']), IssuesWithId(id=9, issues=['Das Ding ist kleiner als es dargestellt wird.']), IssuesWithId(id=17, issues=['kleiner als erwartet']), IssuesWithId(id=18, issues=['Sehr klein'])]),\n",
       " ClusterRequest(name='Quality Issues', description=\"Issues related to the product's overall quality and material\", ids=[IssuesWithId(id=3, issues=['nicht robust genug für eine 8-jährige']), IssuesWithId(id=6, issues=['hergestellt aus einer Art Pappdeckel, der so filigran wirkt, als wenn gleich alles auseinander reisst', 'Man muss beim ersten mal aufklappen schon aufpassen, dass man das Ding nicht gleich kaputt macht']), IssuesWithId(id=8, issues=['nicht stabil']), IssuesWithId(id=19, issues=['einfachem Plastik']), IssuesWithId(id=21, issues=['bessere Qualität erwartet']), IssuesWithId(id=26, issues=['Ist ein bisschen ipsig'])]),\n",
       " ClusterRequest(name='Usability Issues', description=\"Issues related to the product's ease of use and user experience\", ids=[IssuesWithId(id=13, issues=['nach 5 Minuten gelangweilt', 'nichtmal aufbekommen', 'mit Gewalt öffnen und kaputt machen', 'nur aus Pappe']), IssuesWithId(id=20, issues=['Es gibt nur eine Lösung und ein paar triviale andere Figuren', 'Nach 5 min hat man alles durch', 'Kein vergleich mit Rubix', 'Bin mega frustriert']), IssuesWithId(id=22, issues=['schwer ist nicht für 7 jährige']), IssuesWithId(id=27, issues=['sehe da keinen „Spielwert“'])])]"
      ]
     },
     "execution_count": 72,
     "metadata": {},
     "output_type": "execute_result"
    }
   ],
   "source": [
    "response.clusters"
   ]
  },
  {
   "cell_type": "code",
   "execution_count": 74,
   "metadata": {},
   "outputs": [
    {
     "name": "stdout",
     "output_type": "stream",
     "text": [
      "Collecting pandas\n",
      "  Downloading pandas-2.2.2-cp311-cp311-win_amd64.whl.metadata (19 kB)\n",
      "Requirement already satisfied: numpy>=1.23.2 in c:\\users\\oneir\\miniconda3\\envs\\langchain\\lib\\site-packages (from pandas) (1.26.4)\n",
      "Requirement already satisfied: python-dateutil>=2.8.2 in c:\\users\\oneir\\miniconda3\\envs\\langchain\\lib\\site-packages (from pandas) (2.9.0)\n",
      "Collecting pytz>=2020.1 (from pandas)\n",
      "  Downloading pytz-2024.1-py2.py3-none-any.whl.metadata (22 kB)\n",
      "Collecting tzdata>=2022.7 (from pandas)\n",
      "  Downloading tzdata-2024.1-py2.py3-none-any.whl.metadata (1.4 kB)\n",
      "Requirement already satisfied: six>=1.5 in c:\\users\\oneir\\miniconda3\\envs\\langchain\\lib\\site-packages (from python-dateutil>=2.8.2->pandas) (1.16.0)\n",
      "Downloading pandas-2.2.2-cp311-cp311-win_amd64.whl (11.6 MB)\n",
      "   ---------------------------------------- 0.0/11.6 MB ? eta -:--:--\n",
      "   ---------------------------------------- 0.1/11.6 MB 4.2 MB/s eta 0:00:03\n",
      "   - -------------------------------------- 0.5/11.6 MB 4.8 MB/s eta 0:00:03\n",
      "   -- ------------------------------------- 0.8/11.6 MB 5.7 MB/s eta 0:00:02\n",
      "   --- ------------------------------------ 1.1/11.6 MB 5.9 MB/s eta 0:00:02\n",
      "   ---- ----------------------------------- 1.3/11.6 MB 5.7 MB/s eta 0:00:02\n",
      "   ---- ----------------------------------- 1.3/11.6 MB 5.7 MB/s eta 0:00:02\n",
      "   ------ --------------------------------- 1.9/11.6 MB 5.7 MB/s eta 0:00:02\n",
      "   -------- ------------------------------- 2.5/11.6 MB 6.6 MB/s eta 0:00:02\n",
      "   --------- ------------------------------ 2.8/11.6 MB 6.7 MB/s eta 0:00:02\n",
      "   ---------- ----------------------------- 3.0/11.6 MB 6.7 MB/s eta 0:00:02\n",
      "   ------------ --------------------------- 3.5/11.6 MB 7.0 MB/s eta 0:00:02\n",
      "   ------------- -------------------------- 3.8/11.6 MB 6.8 MB/s eta 0:00:02\n",
      "   -------------- ------------------------- 4.2/11.6 MB 6.8 MB/s eta 0:00:02\n",
      "   --------------- ------------------------ 4.5/11.6 MB 6.9 MB/s eta 0:00:02\n",
      "   ---------------- ----------------------- 4.9/11.6 MB 6.9 MB/s eta 0:00:01\n",
      "   ----------------- ---------------------- 5.2/11.6 MB 6.9 MB/s eta 0:00:01\n",
      "   ------------------ --------------------- 5.5/11.6 MB 6.9 MB/s eta 0:00:01\n",
      "   -------------------- ------------------- 5.9/11.6 MB 7.0 MB/s eta 0:00:01\n",
      "   --------------------- ------------------ 6.2/11.6 MB 7.0 MB/s eta 0:00:01\n",
      "   ---------------------- ----------------- 6.6/11.6 MB 7.0 MB/s eta 0:00:01\n",
      "   ----------------------- ---------------- 6.9/11.6 MB 7.0 MB/s eta 0:00:01\n",
      "   ------------------------ --------------- 7.0/11.6 MB 7.0 MB/s eta 0:00:01\n",
      "   ------------------------ --------------- 7.2/11.6 MB 6.7 MB/s eta 0:00:01\n",
      "   ------------------------ --------------- 7.3/11.6 MB 6.7 MB/s eta 0:00:01\n",
      "   -------------------------- ------------- 7.7/11.6 MB 6.7 MB/s eta 0:00:01\n",
      "   ---------------------------- ----------- 8.3/11.6 MB 6.9 MB/s eta 0:00:01\n",
      "   ------------------------------ --------- 8.9/11.6 MB 7.1 MB/s eta 0:00:01\n",
      "   ------------------------------- -------- 9.3/11.6 MB 7.1 MB/s eta 0:00:01\n",
      "   --------------------------------- ------ 9.6/11.6 MB 7.1 MB/s eta 0:00:01\n",
      "   ---------------------------------- ----- 10.0/11.6 MB 7.1 MB/s eta 0:00:01\n",
      "   ----------------------------------- ---- 10.3/11.6 MB 7.2 MB/s eta 0:00:01\n",
      "   ------------------------------------ --- 10.6/11.6 MB 7.2 MB/s eta 0:00:01\n",
      "   ------------------------------------- -- 11.0/11.6 MB 7.3 MB/s eta 0:00:01\n",
      "   -------------------------------------- - 11.3/11.6 MB 7.2 MB/s eta 0:00:01\n",
      "   ---------------------------------------  11.6/11.6 MB 7.5 MB/s eta 0:00:01\n",
      "   ---------------------------------------- 11.6/11.6 MB 7.3 MB/s eta 0:00:00\n",
      "Downloading pytz-2024.1-py2.py3-none-any.whl (505 kB)\n",
      "   ---------------------------------------- 0.0/505.5 kB ? eta -:--:--\n",
      "   ----------------------------- ---------- 368.6/505.5 kB 7.6 MB/s eta 0:00:01\n",
      "   ---------------------------------------- 505.5/505.5 kB 6.3 MB/s eta 0:00:00\n",
      "Downloading tzdata-2024.1-py2.py3-none-any.whl (345 kB)\n",
      "   ---------------------------------------- 0.0/345.4 kB ? eta -:--:--\n",
      "   ------------------------------------ --- 317.4/345.4 kB 6.5 MB/s eta 0:00:01\n",
      "   ---------------------------------------- 345.4/345.4 kB 5.4 MB/s eta 0:00:00\n",
      "Installing collected packages: pytz, tzdata, pandas\n",
      "Successfully installed pandas-2.2.2 pytz-2024.1 tzdata-2024.1\n"
     ]
    }
   ],
   "source": [
    "!pip install pandas"
   ]
  },
  {
   "cell_type": "code",
   "execution_count": 78,
   "metadata": {},
   "outputs": [],
   "source": [
    "import pandas as pd\n",
    "\n",
    "# Extract the clusters from the response\n",
    "clusters = response.clusters\n",
    "\n",
    "# Create an empty list to store the data\n",
    "data = []\n",
    "\n",
    "# Iterate over each cluster\n",
    "for cluster in clusters:\n",
    "    cluster_name = cluster.name\n",
    "    \n",
    "    # Iterate over each issue in the cluster\n",
    "    for issue_with_id in cluster.ids:\n",
    "        review_id = issue_with_id.id\n",
    "        for issue in issue_with_id.issues:\n",
    "            # Append the data to the list\n",
    "            data.append([cluster_name, review_id, issue])\n",
    "\n",
    "# Create a pandas DataFrame from the data\n",
    "df = pd.DataFrame(data, columns=['Cluster Name', 'Review ID', 'Issue'])"
   ]
  },
  {
   "cell_type": "code",
   "execution_count": 79,
   "metadata": {},
   "outputs": [
    {
     "data": {
      "text/html": [
       "<div>\n",
       "<style scoped>\n",
       "    .dataframe tbody tr th:only-of-type {\n",
       "        vertical-align: middle;\n",
       "    }\n",
       "\n",
       "    .dataframe tbody tr th {\n",
       "        vertical-align: top;\n",
       "    }\n",
       "\n",
       "    .dataframe thead th {\n",
       "        text-align: right;\n",
       "    }\n",
       "</style>\n",
       "<table border=\"1\" class=\"dataframe\">\n",
       "  <thead>\n",
       "    <tr style=\"text-align: right;\">\n",
       "      <th></th>\n",
       "      <th>Cluster Name</th>\n",
       "      <th>Review ID</th>\n",
       "      <th>Issue</th>\n",
       "    </tr>\n",
       "  </thead>\n",
       "  <tbody>\n",
       "    <tr>\n",
       "      <th>0</th>\n",
       "      <td>Durability Issues</td>\n",
       "      <td>0</td>\n",
       "      <td>Die geklebte Folie löst sich ab</td>\n",
       "    </tr>\n",
       "    <tr>\n",
       "      <th>1</th>\n",
       "      <td>Durability Issues</td>\n",
       "      <td>2</td>\n",
       "      <td>Es war nach wenigen Minuten kaputt</td>\n",
       "    </tr>\n",
       "    <tr>\n",
       "      <th>2</th>\n",
       "      <td>Durability Issues</td>\n",
       "      <td>4</td>\n",
       "      <td>am nächsten Tag schon gerissen</td>\n",
       "    </tr>\n",
       "    <tr>\n",
       "      <th>3</th>\n",
       "      <td>Durability Issues</td>\n",
       "      <td>8</td>\n",
       "      <td>nicht stabil</td>\n",
       "    </tr>\n",
       "    <tr>\n",
       "      <th>4</th>\n",
       "      <td>Durability Issues</td>\n",
       "      <td>8</td>\n",
       "      <td>ziemlich schnell hinüber</td>\n",
       "    </tr>\n",
       "  </tbody>\n",
       "</table>\n",
       "</div>"
      ],
      "text/plain": [
       "        Cluster Name  Review ID                               Issue\n",
       "0  Durability Issues          0     Die geklebte Folie löst sich ab\n",
       "1  Durability Issues          2  Es war nach wenigen Minuten kaputt\n",
       "2  Durability Issues          4      am nächsten Tag schon gerissen\n",
       "3  Durability Issues          8                        nicht stabil\n",
       "4  Durability Issues          8            ziemlich schnell hinüber"
      ]
     },
     "execution_count": 79,
     "metadata": {},
     "output_type": "execute_result"
    }
   ],
   "source": [
    "df.head()"
   ]
  },
  {
   "cell_type": "code",
   "execution_count": 80,
   "metadata": {},
   "outputs": [],
   "source": [
    "df.to_csv(\"clusters.csv\", index=False)"
   ]
  },
  {
   "cell_type": "markdown",
   "metadata": {},
   "source": [
    "This worked in web chatgpt:\n",
    "\n",
    "You are given a json of format {id: [\"issue1\", \"issue2\", ....]}\n",
    "\n",
    "I want you to cluster those issues into overarching critique points. Respond with:\n",
    "\n",
    "[{\"name\": <name of cluster>, \"description\": \"<brief description>\", \"ids\": [{id: <critique id>, issues: [<list of issues from that critique that were associated with this cluster. Not all issues mentioned might belong to the same cluster>]}]}]"
   ]
  },
  {
   "cell_type": "markdown",
   "metadata": {},
   "source": []
  }
 ],
 "metadata": {
  "kernelspec": {
   "display_name": "langchain",
   "language": "python",
   "name": "python3"
  },
  "language_info": {
   "codemirror_mode": {
    "name": "ipython",
    "version": 3
   },
   "file_extension": ".py",
   "mimetype": "text/x-python",
   "name": "python",
   "nbconvert_exporter": "python",
   "pygments_lexer": "ipython3",
   "version": "3.11.9"
  }
 },
 "nbformat": 4,
 "nbformat_minor": 2
}
