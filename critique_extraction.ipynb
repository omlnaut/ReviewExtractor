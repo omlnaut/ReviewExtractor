{
 "cells": [
  {
   "cell_type": "markdown",
   "metadata": {},
   "source": [
    "# Critique extraction"
   ]
  },
  {
   "cell_type": "code",
   "execution_count": 14,
   "metadata": {},
   "outputs": [],
   "source": [
    "from utils import load_openai_key\n",
    "\n",
    "load_openai_key()"
   ]
  },
  {
   "cell_type": "code",
   "execution_count": 15,
   "metadata": {},
   "outputs": [],
   "source": [
    "from langchain_core.prompts import ChatPromptTemplate\n",
    "\n",
    "prompt_msg = ChatPromptTemplate.from_template(\"\"\"\n",
    "    Extract all the issues mentioned in the review and return them as a list. Only extract concrete issues, not general sentiments. I.e. \"The battery life is too short\" is an issue, but \"I don't like the design\" is not.\n",
    "                                              Or \"not made to last long\" is not an issue, but \"(because) screws are loose\" is an issue.\n",
    "\n",
    "    Review:\n",
    "    {input}\n",
    "\"\"\")"
   ]
  },
  {
   "cell_type": "code",
   "execution_count": 16,
   "metadata": {},
   "outputs": [],
   "source": [
    "from langchain_core.pydantic_v1 import BaseModel, Field\n",
    "\n",
    "\n",
    "class Review(BaseModel):\n",
    "    \"\"\"Collection of issues mentioned in a review\"\"\"\n",
    "    critique_points: list[str] = Field(description=\"List of issues mentioned in the review\")"
   ]
  },
  {
   "cell_type": "code",
   "execution_count": 17,
   "metadata": {},
   "outputs": [],
   "source": [
    "from langchain_openai import ChatOpenAI\n",
    "llm = ChatOpenAI(temperature=0, model=\"gpt-3.5-turbo-0125\").with_structured_output(Review)"
   ]
  },
  {
   "cell_type": "code",
   "execution_count": 18,
   "metadata": {},
   "outputs": [],
   "source": [
    "chain = prompt_msg | llm"
   ]
  },
  {
   "cell_type": "code",
   "execution_count": 19,
   "metadata": {},
   "outputs": [
    {
     "data": {
      "text/plain": [
       "30"
      ]
     },
     "execution_count": 19,
     "metadata": {},
     "output_type": "execute_result"
    }
   ],
   "source": [
    "from pathlib import Path\n",
    "\n",
    "\n",
    "reviews = list(Path('ReviewFetcher/raw_reviews').glob('*.txt'))\n",
    "len(reviews)"
   ]
  },
  {
   "cell_type": "code",
   "execution_count": 20,
   "metadata": {},
   "outputs": [],
   "source": [
    "import json\n",
    "\n",
    "\n",
    "review = json.loads(reviews[0].read_text().replace(\"'\", '\"'))"
   ]
  },
  {
   "cell_type": "code",
   "execution_count": 21,
   "metadata": {},
   "outputs": [
    {
     "data": {
      "text/plain": [
       "{'title': '3,0 von 5 Sternen\\nToll, aber!',\n",
       " 'text': 'Meine Kinder lieben den Würfel, leider ist er vermutlich nicht dafür gebaut, wirklich lange und ständig verwendet zu werden. Die geklebte Folie löst sich nun ab.',\n",
       " 'rating': '3,0 von 5 Sternen',\n",
       " 'date': '25. Mai 2024'}"
      ]
     },
     "execution_count": 21,
     "metadata": {},
     "output_type": "execute_result"
    }
   ],
   "source": [
    "review"
   ]
  },
  {
   "cell_type": "code",
   "execution_count": 27,
   "metadata": {},
   "outputs": [],
   "source": [
    "import locale\n",
    "\n",
    "\n",
    "def parse_to_date_object(date_str: str) -> datetime:\n",
    "    locale.setlocale(locale.LC_TIME, 'de_DE')\n",
    "    date_obj = datetime.strptime(date_str, \"%d. %B %Y\")\n",
    "    return date_obj"
   ]
  },
  {
   "cell_type": "code",
   "execution_count": 28,
   "metadata": {},
   "outputs": [],
   "source": [
    "from dataclasses import dataclass\n",
    "from datetime import datetime\n",
    "\n",
    "\n",
    "@dataclass\n",
    "class ReviewInput:\n",
    "    title: str\n",
    "    text: str\n",
    "    rating: int\n",
    "    date: datetime\n",
    "    \n",
    "    @property\n",
    "    def prompt_txt(self) -> str:\n",
    "        return f\"Title: {self.title}\\nText: {self.text}\\nRating: {self.rating}/5\\nDate: {self.date.strftime('%Y-%m-%d')}\"\n",
    "\n",
    "    @classmethod\n",
    "    def from_json(cls, data: dict):\n",
    "        title = \" \".join(review['title'].split('\\n')[1:])\n",
    "        rating = int(review['rating'][0])\n",
    "        date = parse_to_date_object(review['date'])\n",
    "\n",
    "        return cls(title, review['text'], rating, date)\n"
   ]
  },
  {
   "cell_type": "code",
   "execution_count": 29,
   "metadata": {},
   "outputs": [],
   "source": [
    "review_input = ReviewInput.from_json(review)"
   ]
  },
  {
   "cell_type": "code",
   "execution_count": 33,
   "metadata": {},
   "outputs": [
    {
     "name": "stdout",
     "output_type": "stream",
     "text": [
      "Title: Toll, aber!\n",
      "Text: Meine Kinder lieben den Würfel, leider ist er vermutlich nicht dafür gebaut, wirklich lange und ständig verwendet zu werden. Die geklebte Folie löst sich nun ab.\n",
      "Rating: 3/5\n",
      "Date: 2024-05-25\n"
     ]
    }
   ],
   "source": [
    "print(review_input.prompt_txt)"
   ]
  },
  {
   "cell_type": "code",
   "execution_count": 34,
   "metadata": {},
   "outputs": [
    {
     "data": {
      "text/plain": [
       "Review(critique_points=['Die geklebte Folie löst sich ab'])"
      ]
     },
     "execution_count": 34,
     "metadata": {},
     "output_type": "execute_result"
    }
   ],
   "source": [
    "def extract_issues_from_review(review: ReviewInput) -> Review:\n",
    "    return chain.invoke({\"input\": review.prompt_txt})\n",
    "\n",
    "extract_issues_from_review(review_input)"
   ]
  },
  {
   "cell_type": "code",
   "execution_count": 39,
   "metadata": {},
   "outputs": [
    {
     "data": {
      "text/plain": [
       "'0'"
      ]
     },
     "execution_count": 39,
     "metadata": {},
     "output_type": "execute_result"
    }
   ],
   "source": [
    "reviews[0].stem[7:]"
   ]
  },
  {
   "cell_type": "code",
   "execution_count": 47,
   "metadata": {},
   "outputs": [
    {
     "name": "stdout",
     "output_type": "stream",
     "text": [
      "Processing review_0\n",
      "Processing review_1\n",
      "Processing review_10\n",
      "Processing review_11\n",
      "Processing review_12\n",
      "Processing review_13\n",
      "Processing review_14\n",
      "Processing review_15\n",
      "Processing review_16\n",
      "Processing review_17\n",
      "Processing review_18\n",
      "Processing review_19\n",
      "Processing review_2\n",
      "Processing review_20\n",
      "Processing review_21\n",
      "Processing review_22\n",
      "Processing review_23\n",
      "Processing review_24\n",
      "Processing review_25\n",
      "Processing review_26\n",
      "Processing review_27\n",
      "Processing review_28\n",
      "Processing review_29\n",
      "Processing review_3\n",
      "Processing review_4\n",
      "Processing review_5\n",
      "Processing review_6\n",
      "Processing review_7\n",
      "Processing review_8\n",
      "Processing review_9\n"
     ]
    }
   ],
   "source": [
    "issues = {}\n",
    "for review_file in reviews:\n",
    "    print(f\"Processing {review_file.stem}\")\n",
    "    review = json.loads(review_file.read_text().replace('\"', '\\\\\"').replace(\"'\", '\"'))\n",
    "    review_input = ReviewInput.from_json(review)\n",
    "    extracted = extract_issues_from_review(review_input)\n",
    "\n",
    "    issues[review_file.stem[7:]] = extracted.critique_points"
   ]
  },
  {
   "cell_type": "code",
   "execution_count": 48,
   "metadata": {},
   "outputs": [
    {
     "data": {
      "text/plain": [
       "{'0': ['Die geklebte Folie löst sich ab'],\n",
       " '1': ['Dauerhaltbarkeit könnte deutlich besser sein'],\n",
       " '10': ['nur eine leere Packung erhalten',\n",
       "  'nichts drin außer das Handbuch und die Verpackung'],\n",
       " '11': ['Die Folie auf dem Würfel ist nach zwei Monaten gerissen',\n",
       "  'Dafür ist er zu teuer'],\n",
       " '12': ['viel zu teuer verkauft'],\n",
       " '13': ['nach 5 Minuten gelangweilt',\n",
       "  'nichtmal aufbekommen',\n",
       "  'mit Gewalt öffnen und kaputt machen',\n",
       "  'nur aus Pappe',\n",
       "  'zu teuer'],\n",
       " '14': ['Folie löst sich nach einem Monat',\n",
       "  'Preis zu hoch für überzogenen Kunststoff',\n",
       "  'Folie komplett abgerissen nach mehreren Wochen',\n",
       "  'Würfel unbrauchbar'],\n",
       " '15': ['Etwas klein',\n",
       "  'keine gute Haptik',\n",
       "  'Preis von 25 € scheint mir etwas überteuert',\n",
       "  'enttäuscht weg gepackt',\n",
       "  'letztendlich zurück geschickt'],\n",
       " '16': ['Folie geht auseinander',\n",
       "  'Teile halten nur mit Folie zusammen',\n",
       "  'Preis zu hoch'],\n",
       " '17': ['kleiner als erwartet', 'für den Preis ein wenig simpel'],\n",
       " '18': ['Sehr klein', 'Sehr euch die Maße genau an'],\n",
       " '19': ['einfachem Plastik', 'überdimensioniert', 'Ist das Geld nicht wert'],\n",
       " '2': ['Es war nach wenigen Minuten kaputt'],\n",
       " '20': ['Es gibt nur eine Lösung und ein paar triviale andere Figuren',\n",
       "  'Nach 5 min hat man alles durch',\n",
       "  'Kein vergleich mit Rubix',\n",
       "  'Extrem überteuert',\n",
       "  'Eur 2,95 wäre schon grenzwertig',\n",
       "  'Bin mega frustriert'],\n",
       " '21': ['Verbindung brach schnell nach',\n",
       "  'nur noch äußerst vorsichtig genutzt werden kann',\n",
       "  'bessere Qualität erwartet'],\n",
       " '22': ['schwer ist nicht für 7 jährige'],\n",
       " '23': ['Würfel verreist noch nicht mal einer Woche kaputt',\n",
       "  'Sehr schade denn an sich ist es ein tolles Teil',\n",
       "  'Sehr sehr schade',\n",
       "  'Ich werde den Würfel reklamieren'],\n",
       " '24': ['Extrem rasch fade', 'zu teuer'],\n",
       " '25': ['Folie geht nach 1 Tag ab'],\n",
       " '26': ['Ist ein bisschen ipsig'],\n",
       " '27': ['Der Würfel ist ca 7x7x7', 'sehe da keinen „Spielwert“'],\n",
       " '28': ['Broken after not a day use', 'this isn’t what I expected'],\n",
       " '29': ['Für diesen Würfel 25,00 EURO zu verlangen ist zu viel.'],\n",
       " '3': ['nicht robust genug für eine 8-jährige'],\n",
       " '4': ['am nächsten Tag schon gerissen'],\n",
       " '5': ['Angebotspreis von 20€ ist eine Frechheit',\n",
       "  'Preis ist eindeutig zu hoch',\n",
       "  'Für den hohen Preis habe ich deutlich mehr erwartet'],\n",
       " '6': ['hergestellt aus einer Art Pappdeckel, der so filigran wirkt, als wenn gleich alles auseinander reisst',\n",
       "  'Man muss beim ersten mal aufklappen schon aufpassen, dass man das Ding nicht gleich kaputt macht',\n",
       "  'Preis von um die 25 Euro aufzurufen, ist fast schon unverschämt'],\n",
       " '7': ['zu klein', 'viel zu teuer'],\n",
       " '8': ['nicht stabil', 'ziemlich schnell hinüber', 'nicht günstig'],\n",
       " '9': ['Das Ding ist kleiner als es dargestellt wird.']}"
      ]
     },
     "execution_count": 48,
     "metadata": {},
     "output_type": "execute_result"
    }
   ],
   "source": [
    "issues"
   ]
  },
  {
   "cell_type": "code",
   "execution_count": null,
   "metadata": {},
   "outputs": [],
   "source": []
  }
 ],
 "metadata": {
  "kernelspec": {
   "display_name": "langchain",
   "language": "python",
   "name": "python3"
  },
  "language_info": {
   "codemirror_mode": {
    "name": "ipython",
    "version": 3
   },
   "file_extension": ".py",
   "mimetype": "text/x-python",
   "name": "python",
   "nbconvert_exporter": "python",
   "pygments_lexer": "ipython3",
   "version": "3.11.9"
  }
 },
 "nbformat": 4,
 "nbformat_minor": 2
}
